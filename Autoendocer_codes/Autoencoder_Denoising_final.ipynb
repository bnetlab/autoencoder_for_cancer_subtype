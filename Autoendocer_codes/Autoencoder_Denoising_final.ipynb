{
 "cells": [
  {
   "cell_type": "code",
   "execution_count": null,
   "metadata": {},
   "outputs": [],
   "source": [
    "from keras.datasets import mnist\n",
    "from keras.layers import Input, Dense\n",
    "from keras.models import Model\n",
    "import numpy as np\n",
    "import pandas as pd\n",
    "from sklearn.preprocessing import minmax_scale\n",
    "\n",
    "import matplotlib.pyplot as plt\n",
    "%matplotlib inline\n",
    "\n",
    "from sklearn.preprocessing import StandardScaler\n",
    "from sklearn.model_selection import train_test_split\n",
    "from numpy.random import seed"
   ]
  },
  {
   "cell_type": "code",
   "execution_count": null,
   "metadata": {},
   "outputs": [],
   "source": [
    "#import \n",
    "\n",
    "Data_set= pd.read_csv(\"/home/effrancodelos/Deep_learnig/Data_Nova/COAD/COAD_COX/data_Merge_Colon_t.csv\")\n",
    "Data_set.head(n=20)\n",
    "\n"
   ]
  },
  {
   "cell_type": "code",
   "execution_count": null,
   "metadata": {},
   "outputs": [],
   "source": [
    "#Create a data-set with the string columns\n",
    "\n",
    "Pacients = Data_set['Pacients']\n",
    "#Radiation = Data_set['radiations']\n"
   ]
  },
  {
   "cell_type": "code",
   "execution_count": null,
   "metadata": {},
   "outputs": [],
   "source": [
    "Data_set.drop(['Pacients'], axis=1, inplace=True)\n",
    "#Data_set.drop(Data_set.columns[0], axis=1, inplace=True)"
   ]
  },
  {
   "cell_type": "code",
   "execution_count": null,
   "metadata": {},
   "outputs": [],
   "source": [
    "print (Data_set.shape)"
   ]
  },
  {
   "cell_type": "code",
   "execution_count": null,
   "metadata": {},
   "outputs": [],
   "source": [
    "#data tranforamtion\n",
    "\n",
    "Data_set_scaled =  minmax_scale(Data_set, axis = 0)\n",
    "#Columns inputs number\n",
    "ncol = Data_set_scaled.shape[1]\n",
    "\n"
   ]
  },
  {
   "cell_type": "code",
   "execution_count": null,
   "metadata": {},
   "outputs": [],
   "source": [
    "#Split the dataset \n",
    "X_train, X_test = train_test_split(Data_set_scaled, train_size = 0.8, random_state = seed(2017))\n"
   ]
  },
  {
   "cell_type": "code",
   "execution_count": null,
   "metadata": {},
   "outputs": [],
   "source": [
    "#add noisy to the main data_set\n",
    "noise_factor = 0.5\n",
    "X_train_noisy = X_train + noise_factor * np.random.normal(loc=0.0, scale=0.3, size=X_train.shape)"
   ]
  },
  {
   "cell_type": "code",
   "execution_count": null,
   "metadata": {},
   "outputs": [],
   "source": [
    "#add noisy to the main data_set\n",
    "X_test_noisy = X_test + noise_factor * np.random.normal(loc=0.0, scale=0.3, size=X_test.shape)"
   ]
  },
  {
   "cell_type": "code",
   "execution_count": null,
   "metadata": {},
   "outputs": [],
   "source": [
    "#Clip (limit) the values in an array\n",
    "#X_train_noisy = np.clip(X_train_noisy, 0., 1.)\n",
    "#X_test_noisy= np.clip(X_train_noisy, 0., 1.)"
   ]
  },
  {
   "cell_type": "code",
   "execution_count": null,
   "metadata": {},
   "outputs": [],
   "source": [
    "#encoding\n",
    "encoding_dim = 100"
   ]
  },
  {
   "cell_type": "code",
   "execution_count": null,
   "metadata": {},
   "outputs": [],
   "source": [
    "input_dim = Input(shape = (ncol, ))\n",
    "#Encoder\n",
    "encoded1 = Dense(units=500, activation='tanh')(input_dim)\n",
    "encoded2 = Dense(encoding_dim, activation='tanh')(encoded1)\n",
    "\n",
    "\n",
    "\n",
    "#decoded \n",
    "decoded1 = Dense(500, activation='tanh')(encoded2)\n",
    "decoded2= Dense(ncol, activation='sigmoid')(decoded1)\n",
    "# Building autoencoder\n"
   ]
  },
  {
   "cell_type": "code",
   "execution_count": null,
   "metadata": {},
   "outputs": [],
   "source": [
    "# Building autoencoder\n",
    "autoencoder=Model(input_dim, decoded2)"
   ]
  },
  {
   "cell_type": "code",
   "execution_count": null,
   "metadata": {},
   "outputs": [],
   "source": [
    "#extracting encoder\n",
    "encoder = Model(input_dim, encoded2)"
   ]
  },
  {
   "cell_type": "code",
   "execution_count": null,
   "metadata": {},
   "outputs": [],
   "source": [
    "# compiling the autoencoder\n",
    "autoencoder.compile(optimizer = 'adam', loss = 'mean_squared_error')# BEST\n",
    "#autoencoder.compile(optimizer='adadelta', loss='binary_crossentropy')"
   ]
  },
  {
   "cell_type": "code",
   "execution_count": null,
   "metadata": {},
   "outputs": [],
   "source": [
    "autoencoder.summary()"
   ]
  },
  {
   "cell_type": "code",
   "execution_count": null,
   "metadata": {},
   "outputs": [],
   "source": [
    "#fit the network\n",
    "autoencoder.fit(X_train_noisy, X_train_noisy,\n",
    "                epochs=40,\n",
    "                batch_size=32,\n",
    "                shuffle=True,\n",
    "                validation_data=(X_test, X_test))"
   ]
  },
  {
   "cell_type": "code",
   "execution_count": null,
   "metadata": {},
   "outputs": [],
   "source": [
    "encoder = Model(inputs = input_dim, outputs = encoded2)\n",
    "encoded_input = Input(shape = (encoding_dim, ))"
   ]
  },
  {
   "cell_type": "code",
   "execution_count": null,
   "metadata": {},
   "outputs": [],
   "source": [
    "Data_set_scaled_noisy= Data_set_scaled + noise_factor * np.random.normal(loc=0.0, scale=0.3, size=Data_set_scaled.shape)"
   ]
  },
  {
   "cell_type": "code",
   "execution_count": null,
   "metadata": {},
   "outputs": [],
   "source": [
    "encoded_train = pd.DataFrame(encoder.predict(Data_set_scaled_noisy))\n",
    "encoded_train = encoded_train.add_prefix('feature_')"
   ]
  },
  {
   "cell_type": "code",
   "execution_count": null,
   "metadata": {},
   "outputs": [],
   "source": [
    "encoded_train['Pacients'] = Pacients\n",
    "#encoded_train['Radiations'] = Radiation"
   ]
  },
  {
   "cell_type": "code",
   "execution_count": null,
   "metadata": {},
   "outputs": [],
   "source": [
    "print(encoded_train.shape)\n",
    "encoded_train.head()"
   ]
  },
  {
   "cell_type": "code",
   "execution_count": null,
   "metadata": {},
   "outputs": [],
   "source": [
    "encoded_train.to_csv(\"/home/effrancodelos/Deep_learnig/Data_Nova/COAD/COAD_COX/data_Merge_Colon_Cox_Denoising_1.csv\", index=False)"
   ]
  },
  {
   "cell_type": "code",
   "execution_count": null,
   "metadata": {},
   "outputs": [],
   "source": []
  }
 ],
 "metadata": {
  "kernelspec": {
   "display_name": "Python 3",
   "language": "python",
   "name": "python3"
  },
  "language_info": {
   "codemirror_mode": {
    "name": "ipython",
    "version": 3
   },
   "file_extension": ".py",
   "mimetype": "text/x-python",
   "name": "python",
   "nbconvert_exporter": "python",
   "pygments_lexer": "ipython3",
   "version": "3.8.3"
  }
 },
 "nbformat": 4,
 "nbformat_minor": 2
}
